{
 "cells": [
  {
   "cell_type": "code",
   "execution_count": 1,
   "metadata": {},
   "outputs": [],
   "source": [
    "from nltk.tokenize import sent_tokenize\n",
    "import numpy as np\n",
    "import matplotlib.pyplot as plt\n",
    "import gensim"
   ]
  },
  {
   "cell_type": "code",
   "execution_count": 2,
   "metadata": {},
   "outputs": [],
   "source": [
    "with open(\"Harry_Potter_all_books_preprocessed.txt\") as f:\n",
    "    data = f.read()"
   ]
  },
  {
   "attachments": {},
   "cell_type": "markdown",
   "metadata": {},
   "source": [
    "The text is already pretty clean, there are no extra spaces or wierd characters"
   ]
  },
  {
   "cell_type": "code",
   "execution_count": 3,
   "metadata": {},
   "outputs": [],
   "source": [
    "lines = sent_tokenize(data)"
   ]
  },
  {
   "cell_type": "code",
   "execution_count": 4,
   "metadata": {},
   "outputs": [
    {
     "data": {
      "text/plain": [
       "'THE BOY WHO LIVED Mr and Mrs Dursley of number four Privet Drive were proud to say that they were perfectly normal thank you very much .They were the last people youd expect to be involved in anything strange or mysterious because they just didnt hold with such nonsense .Mr Dursley was the director of a firm called Grunnings which made drills .He was a big beefy man with hardly any neck although he did have a very large mustache .Mrs Dursley was thin and blonde and had nearly twice the usual amount of neck which came in very useful as she spent so much of her time craning over garden fences spying on the neighbors .The Dursley s had a small son called Dudley and in their opinion there was no finer boy anywhere .The Dursleys had everything they wanted but they also had a secret and their greatest fear was that somebody would discover it .They didnt think they could bear it if anyone found out about the Potters .Mrs Potter was Mrs Dursleys sister but they hadnt met for several years in fact Mrs Dursley pretended she didnt have a sister because her sister and her goodfornothing husband were as unDursleyish as it was possible to be .The Dursleys shuddered to think what the neighbors would say if the Potters arrived in the street .The Dursleys knew that the Potters had a small son too but they had never even seen him .This boy was another good reason for keeping the Potters away they didnt want Dudley mixing with a child like that .When Mr and Mrs Dursley woke up on the dull gray Tuesday our story starts there was nothing about the cloudy sky outside to suggest that strange and mysterious things would soon be happening all over the country .Mr Dursley hummed as he picked out his most boring tie for work and Mrs Dursley gossiped away happily as she wrestled a screaming Dudley into his high chair .None of them noticed a large tawny owl flutter past the window .At half past eight Mr Dursley picked up his briefcase pecked Mrs Dursley on the cheek and tried to kiss Dudley goodbye but missed because Dudley was now having a tantrum and throwing his cereal at the walls .Little tyke chortled Mr Dursley as he left the house .He got into his car and backed out of number fours drive .It was on the corner of the street that he noticed the first sign of something peculiar a cat reading a map .For a second Mr Dursley didnt realize what he had seen then he jerked his head around to look again .There was a tabby cat standing on the corner of Privet Drive but there wasnt a map in sight .What could he have been thinking of ?It must have been a trick of the light .Mr Dursley blinked and stared at the cat .It stared back .As Mr Dursley drove around the corner and up the road he watched the cat in his mirror .It was now reading the sign that said Privet Drive no looking at the sign cats couldnt read maps or signs .Mr Dursley gave himself a little shake and put the cat out of his mind .As he drove toward town he thought of nothing except a large order of drills he was hoping to get that day .But on the edge of town drills were driven out of his mind by something else .As he sat in the usual morning traffic jam he couldnt help noticing that there seemed to be a lot of strangely dressed people about .People in cloaks .Mr Dursley couldnt bear people who dressed in funny clothes the getups you saw on young people !He supposed this was some stupid new fashion .He drummed his fingers on the steering wheel and his eyes fell on a huddle of these weirdos standing quite close by .They were whispering excitedly together .Mr Dursley was enraged to see that a couple of them werent young at all why that man had to be older than he was and wearing an emeraldgreen cloak !The nerve of him !But then it struck Mr Dursley that this was probably some silly stunt these people were obviously collecting for something .yes that would be it .The traffic moved on and a few minutes later Mr Dursley arrived in the Grunnings parking lot his mind back on drills .Mr Dursley always sat with his back to the window in his office on the ninth floor .If he hadnt he might have found it harder to concentrate on drills that morning .He didnt see the owls swooping past in broad daylight though people down in the street did they pointed and gazed openmouthed as owl after owl sped overhead .Most of them had never seen an owl even at nighttime .Mr Dursley however had a perfectly normal owlfree morning .He yelled at five different people .He made several important telephone calls and shouted a bit more .He was in a very good mood until lunchtime when he thought hed stretch his legs and walk across the road to buy himself a bun from the bakery .Hed forgotten all about the people in cloaks until he passed a group of them next to the bakers .He eyed them angrily as he passed .He didnt know why but they made him uneasy .This bunch were whispering excitedly too and he couldnt see a single collecting tin .It was on his way back past them clutching a large doughnut in a bag that he caught a few words of what they were saying .The Potters thats right thats what I heard yes their son Harry Mr Dursley stopped dead .Fear flooded him .He looked back at the whisperers as if he wanted to say something to them but thought better of it .He dashed back across the road hurried up to his office snapped at his secretary not to disturb him seized his telephone and had almost finished dialing his home number when he changed his mind .He put the receiver back down and stroked his mustache thinking .no he was being stupid .Potter wasnt such an unusual name .He was sure there were lots of people called Potter who had a son called Harry .Come to think of it he wasnt even sure his nephew was called Harry .Hed never even seen the boy .It might have been Harvey .Or Harold .There was no point in worrying Mrs Dursley she always got so upset at any mention of her sister .He didnt blame her if hed had a sister like that .but all the same those people in cloaks .He found it a lot harder to concentrate on drills that afternoon and when he left the building at five oclock he was still so worried that he walked straight into someone just outside the door .Sorry he grunted as the tiny old man stumbled and almost fell .It was a few seconds before Mr Dursley realized that the man was wearing a violet cloak .He didnt seem at all upset at being almost knocked to the ground .On the contrary his face split into a wide smile and he said in a squeaky voice that made passersby stare Dont be sorry my dear sir for nothing could upset me today !Rejoice for You KnowWho has gone at last !Even Muggles like yourself should be celebrating this happy happy day !And the old man hugged Mr Dursley around the middle and walked off .Mr Dursley stood rooted to the spot .He had been hugged by a complete stranger .He also thought he had been called a Muggle whatever that was .He was rattled .He hurried to his car and set off for home hoping he was imagining things which he had never hoped before because he didnt approve of imagination .As he pulled into the driveway of number four the first thing he saw and it didnt improve his mood was the tabby cat hed spotted that morning .It was now sitting on his garden wall .He was sure it was the same one it had the same markings around its eyes .Shoo !said Mr Dursley loudly .The cat didnt move .It just gave him a stern look .Was this normal cat behavior ?Mr Dursley wondered .Trying to pull himself together he let himself into the house .He was still determined not to mention anything to his wife .Mrs Dursley had had a nice normal day .She told him over dinner all about Mrs Next Doors problems with her daughter and how Dudley had learned a new word Wont .Mr Dursley tried to act normally .When Dudley had been put to bed he went into the living room in time to catch the last report on the evening news And finally birdwatchers everywhere have reported that the nations owls have been behaving very unusually today .Although owls normally hunt at night and are hardly ever seen in daylight there have been hundreds of sightings of these birds flying in every direction since sunrise .Experts are unable to explain why the owls have suddenly changed their sleeping pattern .The newscaster allowed himself a grin .Most mysterious .And now over to Jim McGuffin with the weather .Going to be any more showers of owls tonight Jim ?Well Ted said the weatherman I dont know about that but its not only the owls that have been acting oddly today .Viewers as far apart as Kent Yorkshire and Dundee have been phoning in to tell me that instead of the rain I promised yesterday theyve had a downpour of shooting stars !Perhaps people have been celebrating Bonfire Night early its not until next week folks !But I can promise a wet night tonight .Mr Dursley sat frozen in his armchair .Shooting stars all over Britain ?Owls flying by daylight ?Mysterious people in cloaks all over the place ?And a whisper a whisper about the Potters .Mrs Dursley came into the living room carrying two cups of tea .It was no good .Hed have to say something to her .He cleared his throat nervously .Er Petunia dear you havent heard from your sister lately have you ?As he had expected Mrs Dursley looked shocked and angry .After all they normally pretended she didnt have a sister .No she said sharply .Why ?Funny stuff on the news Mr Dursley mumbled .Owls .shooting stars .and there were a lot of funnylooking people in town today .So ?snapped Mrs Dursley .Well I just thought .maybe .it was something to do with .you know .her crowd .Mrs Dursley sipped her tea through pursed lips .Mr Dursley wondered whether he dared tell her hed heard the name Potter .He decided he didnt dare .Instead he said as casually as he could Their son hed be about Dudleys age now wouldnt he ?I suppose so said Mrs Dursley stiffly .Whats his name again ?Howard isnt it ?Harry .Nasty common name if you ask me .Oh yes said Mr Dursley his heart sinking horribly .Yes I quite agree .He didnt say another word on the subject as they went upstairs to bed .While Mrs Dursley was in the bathroom Mr Dursley crept to the bedroom window and peered down into the front garden .The cat was still there .It was staring down Privet Drive as though it were waiting for something .Was he imagining things ?Could all this have anything to do with the Potters ?If it did .if it got out that they were related to a pair of well he didnt think he could bear it .The Dursleys got into bed .Mrs Dursley fell asleep quickly but Mr Dursley lay awake turning it all over in his mind .His last comforting thought before he fell asleep was that even if the Potters were involved there was no reason for them to come near him and Mrs Dursley .The Potters knew very well what he and Petunia thought about them and their kind .He couldnt see how he and Petunia could get mixed up in anything that might be going on he yawned and turned over it couldnt affect them .How very wrong he was .Mr Dursley might have been drifting into an uneasy sleep but the cat on the wall outside was showing no sign of sleepiness .It was sitting as still as a statue its eyes fixed unblinkingly on the far corner of Privet Drive .It didnt so much as quiver when a car door slammed on the next street nor when two owls swooped overhead .In fact it was nearly midnight before the cat moved at all .A man appeared on the corner the cat had been watching appeared so suddenly and silently youd have thought hed just popped out of the ground .The cats tail twitched and its eyes narrowed .Nothing like this man had ever been seen on Privet Drive .He was tall thin and very old judging by the silver of his hair and beard which were both long enough to tuck into his belt .He was wearing long robes a purple cloak that swept the ground and highheeled buckled boots .His blue eyes were light bright and sparkling behind halfmoon spectacles and his nose was very long and crooked as though it had been broken at least twice .This mans name was Albus Dumbledore .Albus Dumbledore didnt seem to realize that he had just arrived in a street where everything from his name to his boots was unwelcome .He was busy rummaging in his cloak looking for something .But he did seem to realize he was being watched because he looked up suddenly at the cat which was still staring at him from the other end of the street .For some reason the sight of the cat seemed to amuse him .He chuckled and muttered I should have known .He found what he was looking for in his inside pocket .It seemed to be a silver cigarette lighter .He flicked it open held it up in the air and clicked it .The nearest street lamp went out with a little pop .He clicked it again the next lamp flickered into darkness .Twelve times he clicked the PutOuter until the only lights left on the whole street were two tiny pinpricks in the distance which were the eyes of the cat watching him .If anyone looked out of their window now even beadyeyed Mrs Dursley they wouldnt be able to see anything that was happening down on the pavement .Dumbledore slipped the Put Outer back inside his cloak and set off down the street toward number four where he sat down on the wall next to the cat .He didnt look at it but after a moment he spoke to it .Fancy seeing you here Professor McGonagall .He turned to smile at the tabby but it had gone .Instead he was smiling at a rather severelooking woman who was wearing square glasses exactly the shape of the markings the cat had had around its eyes .She too was wearing a cloak an emerald one .Her black hair was drawn into a tight bun .She looked distinctly ruffled .How did you know it was me ?she asked .My dear Professor Ive never seen a cat sit so stiffly .Youd be stiff if youd been sitting on a brick wall all day said Professor McGonagall .All day ?When you could have been celebrating ?I must have passed a dozen feasts and parties on my way here .Professor McGonagall sniffed angrily .Oh yes everyones celebrating all right she said impatiently .Youd think theyd be a bit more careful but no even the Muggles have noticed somethings going on .It was on their news .She jerked her head back at the Dursleys dark livingroom window .I heard it .Flocks of owls .shooting stars .Well theyre not completely stupid .They were bound to notice something .Shooting stars down in Kent Ill bet that was Dedalus Diggle .He never had much sense .You cant blame them said Dumbledore gently .Weve had precious little to celebrate for eleven years .I know that said Professor McGonagall irritably .But thats no reason to lose our heads .People are being downright careless out on the streets in broad daylight not even dressed in Muggle clothes swapping rumors .She threw a sharp sideways glance at Dumbledore here as though hoping he was going to tell her something but he didnt so she went on .A fine thing it would be if on the very day YouKnowWho seems to have disappeared at last the Muggles found out about us all .I suppose he really has gone Dumbledore ?It certainly seems so said Dumbledore .We have much to be thankful for .Would you care for a lemon drop ?A what ?A lemon drop .Theyre a kind of Muggle sweet Im rather fond of .No thank you said Professor McGonagall coldly as though she didnt think this was the moment for lemon drops .As I say even if YouKnowWho has gone My dear Professor surely a sensible person like yourself can call him by his name ?All this You KnowWho nonsense for eleven years I have been trying to persuade people to call him by his proper name Voldemort .Professor McGonagall flinched but Dumbledore who was unsticking two lemon drops seemed not to notice .It all gets so confusing if we keep saying YouKnowWho .I have never seen any reason to be frightened of saying Voldemorts name .I know you havent said Professor McGonagall sounding half exasperated half admiring .But youre different .Everyone knows youre the only one You Know oh all right Voldemort was frightened of .You flatter me said Dumbledore calmly .Voldemort had powers I will never have .Only because youre too well noble to use them .Its lucky its dark .I havent blushed so much since Madam Pomfrey told me she liked my new earmuffs .Professor McGonagall shot a sharp look at Dumbledore and said The owls are nothing next to the rumors that are flying around .You know what everyones saying ?About why hes disappeared ?About what finally stopped him ?It seemed that Professor McGonagall had reached the point she was most anxious to discuss the real reason she had been waiting on a cold hard wall all day for neither as a cat nor as a woman had she fixed Dumbledore with such a piercing stare as she did now .It was plain that whatever everyone was saying she was not going to believe it until Dumbledore told her it was true .Dumbledore however was choosing another lemon drop and did not answer .What theyre saying she pressed on is that last night Voldemort turned up in Godrics Hollow .He went to find the Potters .The rumor is that Lily and James Potter are are that theyre dead .Dumbledore bowed his head .Professor McGonagall gasped .Lily and James .I cant believe it .I didnt want to believe it .Oh Albus .Dumbledore reached out and patted her on the shoulder .I know .I know .he said heavily .Professor McGonagalls voice trembled as she went on .Thats not all .Theyre saying he tried to kill the Potters son Harry .But he couldnt .He couldnt kill that little boy .No one knows why or how but theyre saying that when he couldnt kill Harry Potter Voldemorts power somehow broke and thats why hes gone .Dumbledore nodded glumly .Its its true ?faltered Professor McGonagall .After all hes done .all the people hes killed .he couldnt kill a little boy ?Its just astounding .of all the things to stop him .but how in the name of heaven did Harry survive ?We can only guess said Dumbledore .We may never know .Professor McGonagall pulled out a lace handkerchief and dabbed at her eyes beneath her spectacles .Dumbledore gave a great sniff as he took a golden watch from his pocket and examined it .It was a very odd watch .It had twelve hands but no numbers instead little planets were moving around the edge .It must have made sense to Dumbledore though because he put it back in his pocket and said Hagrids late .I suppose it was he who told you Id be here by the way ?Yes said Professor McGonagall .And I dont suppose youre going to tell me why youre here of all places ?Ive come to bring Harry to his aunt and uncle .Theyre the only family he has left now .You dont mean you cant mean the people who live here ?cried Professor McGonagall jumping to her feet and pointing at number four .Dumbledore you cant .Ive been watching them all day .You couldnt find two people who are less like us .And theyve got this son I saw him kicking his mother all the way up the street screaming for sweets .Harry Potter come and live here !Its the best place for him said Dumbledore firmly .His aunt and uncle will be able to explain everything to him when hes older .Ive written them a letter .A letter ?repeated Professor McGonagall faintly sitting back down on the wall .Really Dumbledore you think you can explain all this in a letter ?These people will never understand him !Hell be famous a legend I wouldnt be surprised if today was known as Harry Potter Day in the future there will be books written about Harry every child in our world will know his name !Exactly said Dumbledore looking very seriously over the top of his halfmoon glasses .It would be enough to turn any boys head .Famous before he can walk and talk !Famous for something he wont even remember !Cant you see how much better off hell be growing up away from all that until hes ready to take it ?Professor McGonagall opened her mouth changed her mind swallowed and then said Yes yes youre right of course .But how is the boy getting here Dumbledore ?She eyed his cloak suddenly as though she thought he might be hiding Harry underneath it .Hagrids bringing him .You think it wise to trust Hagrid with something as important as this ?I would trust Hagrid with my life said Dumbledore .Im not saying his heart isnt in the right place said Professor McGonagall grudgingly but you cant pretend hes not careless .He does tend to what was that ?A low rumbling sound had broken the silence around them .It grew steadily louder as they looked up and down the street for some sign of a headlight it swelled to a roar as they both looked up at the sky and a huge motorcycle fell out of the air and landed on the road in front of them .If the motorcycle was huge it was nothing to the man sitting astride it .He was almost twice as tall as a normal man and at least five times as wide .He looked simply too big to be allowed and so wild long tangles of bushy black hair and beard hid most of his face he had hands the size of trash can lids and his feet in their leather boots were like baby dolphins .In his vast muscular arms he was holding a bundle of blankets .Hagrid said Dumbledore sounding relieved .At last .And where did you get that motorcycle ?Borrowed it Professor Dumbledore sir said the giant climbing carefully off the motorcycle as he spoke .Young Sirius Black lent it to me .Ive got him sir .No problems were there ?No sir house was almost destroyed but I got him out all right before the Muggles started swarmin around .He fell asleep as we was flyin over Bristol .Dumbledore and Professor McGonagall bent forward over the bundle of blankets .Inside just visible was a baby boy fast asleep .Under a tuft of jetblack hair over his forehead they could see a curiously shaped cut like a bolt of lightning .Is that where ?whispered Professor McGonagall .Yes said Dumbledore .Hell have that scar forever .Couldnt you do something about it Dumbledore ?Even if I could I wouldnt .Scars can come in handy .I have one myself above my left knee that is a perfect map of the London Underground .Well give him here Hagrid wed better get this over with .Dumbledore took Harry in his arms and turned toward the Dursleys house .Could I could I say goodbye to him sir ?asked Hagrid .He bent his great shaggy head over Harry and gave him what must have been a very scratchy whiskery kiss .Then suddenly Hagrid let out a howl like a wounded dog .Shhh !hissed Professor McGonagall youll wake the Muggles !Sssorry sobbed Hagrid taking out a large spotted handkerchief and burying his face in it .But I cc cant stand it Lily an James dead an poor little Harry off ter live with Muggles Yes yes its all very sad but get a grip on yourself Hagrid or well be found Professor McGonagall whispered patting Hagrid gingerly on the arm as Dumbledore stepped over the low garden wall and walked to the front door .He laid Harry gently on the doorstep took a letter out of his cloak tucked it inside Harrys blankets and then came back to the other two .For a full minute the three of them stood and looked at the little bundle Hagrids shoulders shook Professor McGonagall blinked furiously and the twinkling light that usually shone from Dumbledores eyes seemed to have gone out .Well said Dumbledore finally thats that .Weve no business staying here .We may as well go and join the celebrations .Yeah said Hagrid in a very muffled voice Id best get this bike away .G night Professor McGonagall Professor Dumbledore sir .Wiping his streaming eyes on his jacket sleeve Hagrid swung himself onto the motorcycle and kicked the engine into life with a roar it rose into the air and off into the night .I shall see you soon I expect Professor McGonagall said Dumbledore nodding to her .Professor McGonagall blew her nose in reply .Dumbledore turned and walked back down the street .On the corner he stopped and took out the silver Put Outer .He clicked it once and twelve balls of light sped back to their street lamps so that Privet Drive glowed suddenly orange and he could make out a tabby cat slinking around the corner at the other end of the street .He could just see the bundle of blankets on the step of number four .Good luck Harry he murmured .He turned on his heel and with a swish of his cloak he was gone .A breeze ruffled the neat hedges of Privet Drive which lay silent and tidy under the inky sky the very last place you would expect astonishing things to happen .Harry Potter rolled over inside his blankets without waking up .One small hand closed on the letter beside him and he slept on not knowing he was special not knowing he was famous not knowing he would be woken in a few hours time by Mrs Dursleys scream as she opened the front door to put out the milk bottles nor that he would spend the next few weeks being prodded and pinched by his cousin Dudley .He couldnt know that at this very moment people meeting in secret all over the country were holding up their glasses and saying in hushed voices To Harry Potter the boy who lived !THE VANASHIG GLASS Nearly ten years had passed since the Dursleys had woken up to find their nephew on the front step but Privet Drive had hardly changed at all .The sun rose on the same tidy front gardens and lit up the brass number four on the Dursleys front door it crept into their living room which was almost exactly the same as it had been on the night when Mr Dursley had seen that fateful news report about the owls .Only the photographs on the mantelpiece really showed how much time had passed .Ten years ago there had been lots of pictures of what looked like a large pink beach ball wearing differentcolored bonnets but Dudley Dursley was no longer a baby and now the photographs showed a large blond boy riding his first bicycle on a carousel at the fair playing a computer game with his father being hugged and kissed by his mother .The room held no sign at all that another boy lived in the house too .Yet Harry Potter was still there asleep at the moment but not for long .His Aunt Petunia was awake and it was her shrill voice that made the first noise of the day .Up !Get up !Now !Harry woke with a start .His aunt rapped on the door again .Up !she screeched .Harry heard her walking toward the kitchen and then the sound of the frying pan being put on the stove .He rolled onto his back and tried to remember the dream he had been having .It had been a good one .There had been a flying motorcycle in it .He had a funny feeling hed had the same dream before .His aunt was back outside the door .Are you up yet ?she demanded .Nearly said Harry .Well get a move on I want you to look after the bacon .And dont you dare let it burn I want everything perfect on Duddys birthday .Harry groaned .What did you say ?his aunt snapped through the door .Nothing nothing .Dudleys birthday how could he have forgotten ?Harry got slowly out of bed and started looking for socks .He found a pair under his bed and after pulling a spider off one of them put them on .Harry was used to spiders because the cupboard under the stairs was full of them and that was where he slept .When he was dressed he went down the hall into the kitchen .The table was almost hidden beneath all Dudleys birthday presents .It looked as though Dudley had gotten the new computer he wanted not to mention the second television and the racing bike .Exactly why Dudley wanted a racing bike was a mystery to Harry as Dudley was very fat and hated exercise unless of course it involved punching somebody .Dudleys favorite punching bag was Harry but he couldnt often catch him .Harry didnt look it but he was very fast .Perhaps it had something to do with living in a dark cupboard but Harry had always been small and skinny for his age .He looked even smaller and skinnier than he really was because all he had to wear were old clothes of Dudleys and Dudley was about four times bigger than he was .Harry had a thin face knobbly knees black hair and bright green eyes .He wore round glasses held together with a lot of Scotch tape because of all the times Dudley had punched him on the nose .The only thing Harry liked about his own appearance was a very thin scar on his forehead that was shaped like a bolt of lightning .He had had it as long as he could remember and the first question he could ever remember asking his Aunt Petunia was how he had gotten it .In the car crash when your parents died she had said .And dont ask questions .Dont ask questions that was the first rule for a quiet life with the Dursleys .Uncle Vernon entered the kitchen as Harry was turning over the bacon .Comb your hair !he barked by way of a morning greeting .About once a week Uncle Vernon looked over the top of his newspaper and shouted that Harry needed a haircut .Harry must have had more haircuts than the rest of the boys in his class put together but it made no difference his hair simply grew that way all over the place .Harry was frying eggs by the time Dudley arrived in the kitchen with his mother .Dudley looked a lot like Uncle Vernon .He had a large pink face not much neck small watery blue eyes and thick blond hair that lay smoothly on his thick fat head .Aunt Petunia often said that Dudley looked like a baby angel Harry often said that Dudley looked like a pig in a wig .Harry put the plates of egg and bacon on the table which was difficult as there wasnt much room .Dudley meanwhile was counting his presents .His face fell .Thirtysix he said looking up at his mother and father .Thats two less than last year .Darling you havent counted Auntie Marges present see its here under this big one from Mommy and Daddy .All right thirtyseven then said Dudley going red in the face .Harry who could see a huge Dudley tantrum coming on began wolfing down his bacon as fast as possible in case Dudley turned the table over .Aunt Petunia obviously scented danger too because she said quickly And well buy you another two presents while were out today .Hows that popkin ?Two more presents .Is that all right ?Dudley thought for a moment .It looked like hard work .Finally he said slowly So Ill have thirty .thirty .Thirtynine sweetums said Aunt Petunia .Oh .Dudley sat down heavily and grabbed the nearest parcel .All right then .Uncle Vernon chuckled .Little tyke wants his moneys worth just like his father .Atta boy Dudley !He ruffled Dudleys hair .At that moment the telephone rang and Aunt Petunia went to answer it while Harry and Uncle Vernon watched Dudley unwrap the racing bike a video camera a remote control airplane sixteen new computer games and a VCR .He was ripping the paper off a gold wristwatch when Aunt Petunia came back from the telephone looking both angry and worried .Bad news Vernon she said .Mrs Figgs broken her leg .She cant take him .She jerked her head in Harrys direction .Dudleys mouth fell open in horror but Harrys heart gave a leap .Every year on Dudleys birthday his parents took him and a friend out for the day to adventure parks hamburger restaurants or the movies .Every year Harry was left behind with Mrs Figg a mad old lady who lived two streets away .Harry hated it there .The whole house smelled of cabbage and Mrs Figg made him look at photographs of all the cats shed ever owned .Now what ?said Aunt Petunia looking furiously at Harry as though hed planned this .Harry knew he ought to feel sorry that Mrs Figg had broken her leg but it wasnt easy when he reminded himself it would be a whole year before he had to look at Tibbies Snowy Mr Paws and Tufty again .We could phone Marge Uncle Vernon suggested .Dont be silly Vernon she hates the boy .The Dursleys often spoke about Harry like this as though he wasnt there or rather as though he was something very nasty that couldnt understand them like a slug .What about whatshername your friend Yvonne ?On vacation in Majorca snapped Aunt Petunia .You could just leave me here Harry put in hopefully hed be able to watch what he wanted on television for a change and maybe even have a go on Dudleys computer .Aunt Petunia looked as though shed just swallowed a lemon .And come back and find the house in ruins ?she snarled .I wont blow up the house said Harry but they werent listening .I suppose we could take him to the zoo said Aunt Petunia slowly .and leave him in the car .That cars new hes not sitting in it alone .Dudley began to cry loudly .In fact he wasnt really crying it had been years since hed really cried but he knew that if he screwed up his face and wailed his mother would give him anything he wanted .Dinky Duddydums dont cry Mummy wont let him spoil your special day !she cried flinging her arms around him .I .dont .want .him .ttto come !Dudley yelled between huge pretend sobs .He always sp spoils everything !He shot Harry a nasty grin through the gap in his mothers arms .Just then the doorbell rang Oh good Lord theyre here !said Aunt Petunia frantically and a moment later Dudleys best friend Piers Polkiss walked in with his mother .Piers was a scrawny boy with a face like a rat .He was usually the one who held peoples arms behind their backs while Dudley hit them .Dudley stopped pretending to cry at once .Half an hour later Harry who couldnt believe his luck was sitting in the back of the Dursleys car with Piers and Dudley on the way to the zoo for the first time in his life .His aunt and uncle hadnt been able to think of anything else to do with him but before theyd left Uncle Vernon had taken Harry aside .Im warning you he had said putting his large purple face right up close to Harrys Im warning you now boy any funny business anything at all and youll be in that cupboard from now until Christmas .Im not going to do anything said Harry honestly But Uncle Vernon didnt believe him .No one ever did .The problem was strange things often happened around Harry and it was just no good telling the Dursleys he didnt make them happen .Once Aunt Petunia tired of Harry coming back from the barbers looking as though he hadnt been at all had taken a pair of kitchen scissors and cut his hair so short he was almost bald except for his bangs which she left to hide that horrible scar .Dudley had laughed himself silly at Harry who spent a sleepless night imagining school the next day where he was already laughed at for his baggy clothes and taped glasses .Next morning however he had gotten up to find his hair exactly as it had been before Aunt Petunia had sheared it off .He had been given a week in his cupboard for this even though he had tried to explain that he couldnt explain how it had grown back so quickly .Another time Aunt Petunia had been trying to force him into a revolting old sweater of Dudleys brown with orange puff balls .The harder she tried to pull it over his head the smaller it seemed to become until finally it might have fitted a hand puppet but certainly wouldnt fit Harry .Aunt Petunia had decided it must have shrunk in the wash and to his great relief Harry wasnt punished .On the other hand hed gotten into terrible trouble for being found on the roof of the school kitchens .Dudleys gang had been chasing him as usual when as much to Harrys surprise as anyone elses there he was sitting on the chimney .The Dursleys had received a very angry letter from Harrys headmistress telling them Harry had been climbing school buildings .But all hed tried to do as he shouted at Uncle Vernon through the locked door of his cupboard was jump behind the big trash cans outside the kitchen doors .Harry supposed that the wind must have caught him in midjump .But today nothing was going to go wrong .It was even worth being with Dudley and Piers to be spending the day somewhere that wasnt school his cupboard or Mrs Figgs cabbagesmelling living room .While he drove Uncle Vernon complained to Aunt Petunia .He liked to complain about things people at work Harry the council Harry the bank and Harry were just a few of his favorite subjects .This morning it was motorcycles .'"
      ]
     },
     "execution_count": 4,
     "metadata": {},
     "output_type": "execute_result"
    }
   ],
   "source": [
    "lines[0]"
   ]
  },
  {
   "attachments": {},
   "cell_type": "markdown",
   "metadata": {},
   "source": [
    "Tokenization isn't proper probabality beacuse of '. ' is wrong."
   ]
  },
  {
   "cell_type": "code",
   "execution_count": 5,
   "metadata": {},
   "outputs": [
    {
     "name": "stdout",
     "output_type": "stream",
     "text": [
      "THE BOY WHO LIVED Mr and Mrs Dursley of number four Privet Drive were proud to say that they were perfectly normal thank you very much. They were the last people youd expect to be involved in anything strange or mysterious because they just didnt hold with such nonsense. Mr Dursley\n"
     ]
    }
   ],
   "source": [
    "import re\n",
    "\n",
    "text = \"THE BOY WHO LIVED Mr and Mrs Dursley of number four Privet Drive were proud to say that they were perfectly normal thank you very much .They were the last people youd expect to be involved in anything strange or mysterious because they just didnt hold with such nonsense .Mr Dursley\" \n",
    "replaced_text = re.sub(r'\\s\\.([A-Z])', r'. \\1', text)\n",
    "\n",
    "print(replaced_text)"
   ]
  },
  {
   "attachments": {},
   "cell_type": "markdown",
   "metadata": {},
   "source": [
    "Now we can apply this to entire corpus"
   ]
  },
  {
   "cell_type": "code",
   "execution_count": 6,
   "metadata": {},
   "outputs": [],
   "source": [
    "corpus = re.sub(r'\\s\\.([A-Z])', r'. \\1', data)"
   ]
  },
  {
   "cell_type": "code",
   "execution_count": 7,
   "metadata": {},
   "outputs": [],
   "source": [
    "lines = sent_tokenize(corpus)"
   ]
  },
  {
   "cell_type": "code",
   "execution_count": 8,
   "metadata": {},
   "outputs": [
    {
     "data": {
      "text/plain": [
       "'THE BOY WHO LIVED Mr and Mrs Dursley of number four Privet Drive were proud to say that they were perfectly normal thank you very much.'"
      ]
     },
     "execution_count": 8,
     "metadata": {},
     "output_type": "execute_result"
    }
   ],
   "source": [
    "lines[0]"
   ]
  },
  {
   "attachments": {},
   "cell_type": "markdown",
   "metadata": {},
   "source": [
    "Now it works fine! Let's further tokenize and clean the text using gensim"
   ]
  },
  {
   "cell_type": "code",
   "execution_count": 9,
   "metadata": {},
   "outputs": [],
   "source": [
    "tokens = []\n",
    "for line in lines:\n",
    "    tokens.append(gensim.utils.simple_preprocess(line))"
   ]
  },
  {
   "cell_type": "code",
   "execution_count": 10,
   "metadata": {},
   "outputs": [
    {
     "data": {
      "text/plain": [
       "['the',\n",
       " 'boy',\n",
       " 'who',\n",
       " 'lived',\n",
       " 'mr',\n",
       " 'and',\n",
       " 'mrs',\n",
       " 'dursley',\n",
       " 'of',\n",
       " 'number',\n",
       " 'four',\n",
       " 'privet',\n",
       " 'drive',\n",
       " 'were',\n",
       " 'proud',\n",
       " 'to',\n",
       " 'say',\n",
       " 'that',\n",
       " 'they',\n",
       " 'were',\n",
       " 'perfectly',\n",
       " 'normal',\n",
       " 'thank',\n",
       " 'you',\n",
       " 'very',\n",
       " 'much']"
      ]
     },
     "execution_count": 10,
     "metadata": {},
     "output_type": "execute_result"
    }
   ],
   "source": [
    "tokens[0]"
   ]
  },
  {
   "cell_type": "code",
   "execution_count": 11,
   "metadata": {},
   "outputs": [
    {
     "data": {
      "text/plain": [
       "63880"
      ]
     },
     "execution_count": 11,
     "metadata": {},
     "output_type": "execute_result"
    }
   ],
   "source": [
    "len(tokens)"
   ]
  },
  {
   "cell_type": "code",
   "execution_count": 12,
   "metadata": {},
   "outputs": [],
   "source": [
    "model = gensim.models.Word2Vec(\n",
    "window =  5,\n",
    "min_count = 10,\n",
    "sg = 1,\n",
    "negative = 10\n",
    ")"
   ]
  },
  {
   "cell_type": "code",
   "execution_count": 13,
   "metadata": {},
   "outputs": [],
   "source": [
    "model.build_vocab(tokens)"
   ]
  },
  {
   "cell_type": "code",
   "execution_count": 14,
   "metadata": {},
   "outputs": [
    {
     "data": {
      "text/plain": [
       "(3821879, 5268160)"
      ]
     },
     "execution_count": 14,
     "metadata": {},
     "output_type": "execute_result"
    }
   ],
   "source": [
    "model.train(tokens, total_examples=model.corpus_count, epochs=model.epochs)"
   ]
  },
  {
   "cell_type": "code",
   "execution_count": 15,
   "metadata": {},
   "outputs": [
    {
     "name": "stdout",
     "output_type": "stream",
     "text": [
      "Embedding Dimensions: 100\n"
     ]
    }
   ],
   "source": [
    "embedding_matrix = model.wv.vectors\n",
    "embedding_dimensions = embedding_matrix.shape[1]\n",
    "\n",
    "# Print the dimensions of the embeddings\n",
    "print(\"Embedding Dimensions:\", embedding_dimensions)"
   ]
  },
  {
   "cell_type": "code",
   "execution_count": 16,
   "metadata": {},
   "outputs": [
    {
     "data": {
      "text/plain": [
       "[('luna', 0.693458616733551),\n",
       " ('parvati', 0.6810336112976074),\n",
       " ('awkwardly', 0.671069324016571),\n",
       " ('ron', 0.666619598865509),\n",
       " ('neville', 0.6445083022117615),\n",
       " ('ginny', 0.6409715414047241),\n",
       " ('lavender', 0.633025050163269),\n",
       " ('miserably', 0.6315160393714905),\n",
       " ('aghast', 0.6300598978996277),\n",
       " ('griphook', 0.627025306224823)]"
      ]
     },
     "execution_count": 16,
     "metadata": {},
     "output_type": "execute_result"
    }
   ],
   "source": [
    "model.wv.most_similar(\"hermione\")"
   ]
  },
  {
   "cell_type": "code",
   "execution_count": 17,
   "metadata": {},
   "outputs": [],
   "source": [
    "characters = [\n",
    "\"harry\",\n",
    "\"ron\",\n",
    "\"hermione\",\n",
    "\"dumbledore\",\n",
    "\"voldemort\",\n",
    "\"snape\",\n",
    "\"sirius\",\n",
    "\"draco\",\n",
    "\"hagrid\",\n",
    "\"neville\",\n",
    "\"dobby\",\n",
    "\"moody\",\n",
    "\"lupin\",\n",
    "\"bellatrix\"]"
   ]
  },
  {
   "cell_type": "code",
   "execution_count": 18,
   "metadata": {},
   "outputs": [
    {
     "data": {
      "image/png": "[encoded data removed]",
      "text/plain": [
       "<Figure size 1200x1000 with 14 Axes>"
      ]
     },
     "metadata": {},
     "output_type": "display_data"
    }
   ],
   "source": [
    "num_elements = len(characters)\n",
    "fig, axs = plt.subplots(num_elements, 1, figsize=(12, 10))\n",
    "\n",
    "\n",
    "for i, element in enumerate(characters):\n",
    "\n",
    "    vector = model.wv.get_vector(element)\n",
    "\n",
    "    normalized_data = (vector - np.min(vector)) / (np.max(vector) - np.min(vector))\n",
    "\n",
    "\n",
    "    cmap = plt.get_cmap('coolwarm')\n",
    "\n",
    "   \n",
    "    colors = [cmap(val) for val in normalized_data]\n",
    "\n",
    " \n",
    "    axs[i].bar(range(len(vector)), [1] * len(vector), color=colors, align='center')\n",
    "\n",
    "\n",
    "    axs[i].set_yticks([])\n",
    "    axs[i].set_xticks([])\n",
    "    axs[i].set_ylabel(element)\n",
    "\n",
    "\n",
    "plt.tight_layout()\n",
    "axs[num_elements-1].set_xticks(range(0,100, 2))\n",
    "\n",
    "plt.show()\n"
   ]
  },
  {
   "attachments": {},
   "cell_type": "markdown",
   "metadata": {},
   "source": [
    "This plot helps to observe similiarity betweeen different characters in the movie. We can assess features of embedding "
   ]
  },
  {
   "attachments": {},
   "cell_type": "markdown",
   "metadata": {},
   "source": [
    "84 - Harry's Friends </br>\n",
    "99 - Age </br>\n",
    "22 - Gender </br>\n",
    "77 - shows dobby being different from the rest </br>\n",
    "36 - Part of Voldermort Army </br>\n",
    "74 - Power of the Wizard"
   ]
  },
  {
   "cell_type": "code",
   "execution_count": 19,
   "metadata": {},
   "outputs": [],
   "source": [
    "char_vectors = []\n",
    "for ch in characters:\n",
    "    char_vectors.append(model.wv.get_vector(ch))"
   ]
  },
  {
   "cell_type": "code",
   "execution_count": 20,
   "metadata": {},
   "outputs": [
    {
     "data": {
      "text/plain": [
       "[array([-0.11479181,  0.34302798, -0.22542979,  0.01637862,  0.25324485,\n",
       "        -0.1259052 , -0.05854173,  0.40454426, -0.41578156, -0.3591623 ,\n",
       "        -0.11044292, -0.28038555,  0.11324844, -0.01573838,  0.14323299,\n",
       "        -0.22413267,  0.25979066, -0.0237043 , -0.2190105 , -0.33557513,\n",
       "         0.20810488,  0.28442228,  0.30994812,  0.08454845, -0.09267382,\n",
       "         0.22862521, -0.30347207, -0.37728354, -0.22792815,  0.01543858,\n",
       "        -0.02940732,  0.02643541,  0.02971501, -0.44843778, -0.21751477,\n",
       "         0.43725842,  0.18353221,  0.3531756 ,  0.15837832, -0.3385291 ,\n",
       "         0.269268  ,  0.06529444, -0.11909259,  0.27098238, -0.05703678,\n",
       "        -0.20929772, -0.21154833, -0.02775138,  0.15108585,  0.14133996,\n",
       "         0.31551787, -0.17075768,  0.3315718 ,  0.5754604 , -0.21240294,\n",
       "        -0.07830354,  0.16397215, -0.512438  , -0.41163075, -0.14623606,\n",
       "         0.3686021 , -0.08175468,  0.23610698, -0.09667989, -0.52305216,\n",
       "         0.03534884, -0.08601443,  0.06868079, -0.2692128 ,  0.04033722,\n",
       "         0.08952989,  0.32823598,  0.08302973,  0.16612388,  0.39285246,\n",
       "         0.28288385, -0.13593575,  0.12625657,  0.28930932, -0.04610773,\n",
       "        -0.02652315, -0.19624181,  0.03023198,  0.02474937, -0.36290222,\n",
       "        -0.02251994,  0.11644751,  0.33032286,  0.33379412,  0.2623149 ,\n",
       "         0.22423597,  0.05802552, -0.36565974,  0.06059405,  0.3099407 ,\n",
       "         0.24077633, -0.13039798, -0.16580665,  0.11479457, -0.08496343],\n",
       "       dtype=float32),\n",
       " array([ 0.2639225 ,  0.00534181, -0.33713594,  0.5216875 ,  0.01227977,\n",
       "        -0.01026531, -0.03371119,  0.25259268, -0.37615356, -0.31581137,\n",
       "         0.2877134 , -0.1900932 ,  0.33864784, -0.12273281,  0.15479605,\n",
       "        -0.2556199 ,  0.3597046 , -0.12531756, -0.23523581, -0.28662646,\n",
       "         0.24966152,  0.46994784,  0.24163388,  0.2551719 , -0.02311537,\n",
       "         0.1674774 , -0.08423603, -0.49184972, -0.28631878, -0.05333713,\n",
       "         0.135926  , -0.42218822, -0.00690647, -0.08884779,  0.15320423,\n",
       "         0.20949148,  0.10269697,  0.23581284, -0.07644212, -0.5543919 ,\n",
       "         0.3700552 , -0.14232361, -0.05727622,  0.0569507 , -0.2997776 ,\n",
       "        -0.37661725, -0.03019274, -0.29101545, -0.04340377,  0.06123569,\n",
       "         0.32417083, -0.01842802,  0.00495279,  0.26538238, -0.36869782,\n",
       "        -0.18177472,  0.36276698, -0.40520108, -0.22693679, -0.00257398,\n",
       "        -0.06252357,  0.40254292, -0.00650682,  0.3045692 , -0.2524321 ,\n",
       "         0.2551086 ,  0.1509342 ,  0.22022681, -0.22990832,  0.28428867,\n",
       "        -0.3051091 ,  0.577288  , -0.00154193, -0.23265477,  0.37856126,\n",
       "         0.33427534,  0.10653116,  0.09272649,  0.21343198,  0.10035996,\n",
       "        -0.01220276,  0.07328406, -0.07900023, -0.06749493, -0.85213435,\n",
       "         0.0893888 ,  0.44501513,  0.46885994,  0.21445394,  0.37858889,\n",
       "         0.6044752 ,  0.02437422, -0.07122318,  0.34259117,  0.19971403,\n",
       "         0.02545316, -0.03042106, -0.23178661,  0.10839135, -0.084732  ],\n",
       "       dtype=float32),\n",
       " array([ 0.45710707, -0.210596  , -0.09196781,  0.18871152, -0.0580265 ,\n",
       "        -0.2345205 , -0.13588159,  0.46926934, -0.06448822, -0.00393288,\n",
       "        -0.09903697, -0.10967451,  0.21237706,  0.02002571,  0.1944291 ,\n",
       "        -0.04674182,  0.35107145,  0.02300985,  0.01483658, -0.48146364,\n",
       "         0.16424423, -0.05078097,  0.06243422,  0.1363545 , -0.16703813,\n",
       "        -0.12983714,  0.01453726, -0.42449012, -0.40870896,  0.00689393,\n",
       "         0.39832744, -0.02124888, -0.1291894 , -0.06372311, -0.09386588,\n",
       "         0.9051269 ,  0.11045909,  0.29951632, -0.178743  , -0.52868426,\n",
       "         0.06036443,  0.04092557, -0.08012971,  0.08194793, -0.35643637,\n",
       "        -0.20563313, -0.32535204, -0.1265535 ,  0.3367098 , -0.15786229,\n",
       "         0.45014784, -0.15993807, -0.19777337,  0.13271402, -0.18968563,\n",
       "         0.04280536,  0.4700104 , -0.33138704, -0.39260003, -0.23482007,\n",
       "         0.12356283, -0.18209288,  0.48121706,  0.49412188, -0.06754375,\n",
       "         0.02658957,  0.01486218,  0.32341775, -0.5751626 ,  0.30147985,\n",
       "        -0.16732386,  0.39299196,  0.1139032 , -0.6919016 ,  0.2388494 ,\n",
       "         0.14670393, -0.2077837 ,  0.27004132, -0.00875768,  0.02154724,\n",
       "        -0.11821139, -0.18608959, -0.05574623,  0.22648506, -0.8629283 ,\n",
       "         0.0793009 , -0.13019943,  0.5833454 ,  0.20262933,  0.6010439 ,\n",
       "         0.5811702 , -0.10189156, -0.1571711 ,  0.09511433,  0.51485664,\n",
       "         0.01381225, -0.52492607,  0.02973441,  0.15257345, -0.12436471],\n",
       "       dtype=float32),\n",
       " array([-7.7534780e-02, -3.8134843e-02, -3.1854168e-01, -4.3097281e-04,\n",
       "         3.9975333e-01, -1.7593423e-01,  1.8843356e-01,  3.9295059e-01,\n",
       "         1.0136664e-01, -3.0598346e-02,  3.8738284e-01,  9.3816377e-02,\n",
       "         3.6519885e-01,  3.7344176e-01,  4.0321976e-01,  6.4529099e-02,\n",
       "         3.3669040e-02, -2.0390969e-02,  4.2459071e-01, -2.2001106e-01,\n",
       "         2.8498462e-01,  1.2613693e-01,  9.1230229e-02,  3.2820669e-01,\n",
       "         3.3036724e-01, -6.8689607e-02,  3.4973186e-01, -7.8295968e-02,\n",
       "        -1.7322581e-01, -1.2511112e-01, -2.4708005e-02, -1.9716154e-01,\n",
       "         8.2459509e-02,  6.6270292e-02, -1.2929492e-01,  5.2834165e-01,\n",
       "        -4.1002107e-01, -9.8388292e-02, -3.9711097e-01, -4.8085448e-01,\n",
       "         5.3430204e-03,  3.0417418e-02, -2.4257103e-01,  2.6596764e-01,\n",
       "         1.8960534e-01, -3.1895521e-01, -7.1398193e-01, -3.4979455e-02,\n",
       "         3.6271659e-01,  5.1901710e-01,  6.3948303e-01, -2.5648910e-01,\n",
       "        -2.5820255e-01,  2.0019805e-01, -8.9916877e-02, -4.7244575e-02,\n",
       "         1.5029138e-01, -8.4344715e-01, -4.5365736e-01, -1.8003647e-01,\n",
       "        -1.2488187e-02, -1.1231362e-01,  3.8042688e-01, -2.1069793e-01,\n",
       "        -6.3686395e-01,  2.2347771e-02, -1.2831420e-01,  2.5029814e-01,\n",
       "         2.1050533e-03,  4.0867671e-01,  6.6510406e-03,  1.6703932e-01,\n",
       "        -2.9502302e-02,  3.9747566e-02,  3.5270417e-01,  4.2619729e-01,\n",
       "         1.6909279e-01,  5.5540886e-02, -1.9487716e-01, -2.6045504e-01,\n",
       "         4.4435278e-01, -9.5317923e-02, -9.4623201e-02, -1.9527322e-01,\n",
       "        -2.0673984e-01,  1.9005112e-01,  2.5399834e-01,  2.4828926e-01,\n",
       "        -2.5856809e-03,  5.6610656e-01, -7.0909541e-03,  7.4649349e-02,\n",
       "        -3.7922713e-01,  2.4838308e-02,  3.9107043e-01,  3.5957102e-02,\n",
       "        -4.2061716e-01, -6.0340162e-02,  5.2660793e-01,  2.7481729e-01],\n",
       "       dtype=float32),\n",
       " array([-0.18753038,  0.00075182, -0.19101466,  0.09227946,  0.6544805 ,\n",
       "        -0.15355186,  0.0875012 ,  0.24216484, -0.08790078, -0.09412255,\n",
       "         0.36246133,  0.0355512 , -0.04254653,  0.5577804 ,  0.14761022,\n",
       "        -0.2087727 , -0.10725857, -0.00139549,  0.12011274, -0.6532627 ,\n",
       "         0.0143088 ,  0.03793475,  0.2711582 ,  0.50466496,  0.11895592,\n",
       "        -0.5192786 ,  0.09477742, -0.1579244 , -0.35666403, -0.25413078,\n",
       "         0.06200866, -0.13486059,  0.19489706, -0.3686515 ,  0.2024419 ,\n",
       "         0.20495638, -0.7267081 ,  0.21403474,  0.01584426, -0.7176005 ,\n",
       "        -0.26628825, -0.09272683, -0.33109924, -0.39400694,  0.00429746,\n",
       "        -0.33774486, -0.43157542,  0.03916754,  0.30490118,  0.56820786,\n",
       "         0.37596333, -0.0795956 , -0.25016525,  0.38005307, -0.1282504 ,\n",
       "        -0.4220559 ,  0.19078523, -0.5210531 , -0.26954037, -0.25400525,\n",
       "         0.07221475, -0.12156814,  0.48157936, -0.3070689 , -0.6034882 ,\n",
       "         0.0495602 , -0.00076715,  0.35641438, -0.12175859,  0.27604535,\n",
       "         0.4042128 ,  0.40935034, -0.09855965,  0.2117301 ,  0.46639284,\n",
       "         0.5434567 , -0.20210837,  0.11170067, -0.15605757, -0.2608422 ,\n",
       "         0.09681658, -0.32889134,  0.02763074, -0.15856199, -0.2673876 ,\n",
       "         0.25686064,  0.4369373 , -0.05373724, -0.12253981, -0.0795871 ,\n",
       "        -0.3370414 , -0.16956049, -0.16898261, -0.1718633 ,  0.4905811 ,\n",
       "        -0.24708948,  0.17870808,  0.03108099,  0.17195404,  0.20944098],\n",
       "       dtype=float32),\n",
       " array([ 0.14579846, -0.02117634, -0.26612538,  0.01513375,  0.46704677,\n",
       "        -0.0341243 ,  0.25037092,  0.5708835 ,  0.2760047 , -0.20856456,\n",
       "         0.24812849, -0.15600961, -0.07821182,  0.15003581,  0.71841055,\n",
       "        -0.18152003, -0.40557525,  0.10472221,  0.10127875, -0.07007149,\n",
       "         0.34781027,  0.35272273,  0.3194719 ,  0.18765832,  0.24647012,\n",
       "        -0.20209022,  0.19347432, -0.2544811 , -0.20074542, -0.26346132,\n",
       "         0.00476328,  0.178731  ,  0.19244562, -0.4402571 , -0.3666082 ,\n",
       "         0.46396062,  0.04202523,  0.1686583 , -0.09013449, -0.4407581 ,\n",
       "        -0.24405977,  0.12977059, -0.33725014, -0.06096215,  0.36338606,\n",
       "        -0.29521546, -0.29312   , -0.35152584,  0.14229846,  0.3433711 ,\n",
       "         0.79955226, -0.32540986, -0.34840927,  0.42829254, -0.10888642,\n",
       "        -0.04714863,  0.48415732, -0.64044505, -0.40469757, -0.49725157,\n",
       "        -0.11512297, -0.23459336,  0.04627815, -0.3393225 , -0.65157086,\n",
       "         0.18688887,  0.15127814,  0.11642183, -0.2105024 ,  0.20916589,\n",
       "         0.05915923,  0.278199  ,  0.05694398,  0.19905221,  0.15713379,\n",
       "         0.40718654, -0.18469094,  0.00743737, -0.00466896, -0.05004873,\n",
       "         0.13939874,  0.04528235, -0.02456307,  0.07661336, -0.28973168,\n",
       "         0.48147947,  0.12847397,  0.22377151,  0.12008805,  0.24865784,\n",
       "        -0.3537712 , -0.15092874,  0.04245189,  0.08723973,  0.4646615 ,\n",
       "        -0.253295  ,  0.0356563 ,  0.12598579,  0.256754  ,  0.1508495 ],\n",
       "       dtype=float32),\n",
       " array([ 0.01388849,  0.03768643, -0.2695876 , -0.00342166,  0.25771093,\n",
       "        -0.12171404,  0.00514327,  0.6838607 ,  0.13810247,  0.05833914,\n",
       "         0.8920017 ,  0.10691594, -0.14061023, -0.03948925,  0.00222422,\n",
       "        -0.22201888,  0.11595684,  0.02546602, -0.07686836, -0.1466139 ,\n",
       "         0.12929669,  0.3389519 ,  0.05628697, -0.07638706,  0.6349181 ,\n",
       "        -0.19753635,  0.10487682, -0.5169588 , -0.31766835,  0.02746392,\n",
       "        -0.04886546, -0.13995992,  0.14501166, -0.46545574,  0.07077655,\n",
       "         0.29923835, -0.25094193,  0.12542847, -0.01646133, -0.44328624,\n",
       "         0.02258017, -0.12932737, -0.36558643, -0.04121956, -0.10915107,\n",
       "        -0.37149942, -0.05782115, -0.1700705 , -0.22770025,  0.4828859 ,\n",
       "         0.32182336, -0.07358517,  0.11751144,  0.12753725, -0.33306065,\n",
       "        -0.22504136,  0.4039651 , -0.36823678, -0.30837536, -0.1508723 ,\n",
       "        -0.02748428,  0.21410961,  0.17071295, -0.08341055, -0.7088163 ,\n",
       "        -0.04046561, -0.34375733,  0.04324609, -0.02973539,  0.27127698,\n",
       "        -0.09144361,  0.38665918, -0.27244833,  0.04281617,  0.5174575 ,\n",
       "         0.35298362,  0.25762025,  0.29939285,  0.13265651,  0.02483441,\n",
       "        -0.00638086, -0.24457867, -0.16746727,  0.03722855, -0.26531744,\n",
       "         0.07378268,  0.46324587,  0.29616684, -0.2946215 ,  0.2680614 ,\n",
       "         0.06959306, -0.47434244, -0.11223157,  0.20556201,  0.5248159 ,\n",
       "        -0.04550218, -0.10329542,  0.12905467,  0.26346242,  0.07767893],\n",
       "       dtype=float32),\n",
       " array([ 2.16513835e-02,  1.02408521e-01, -3.29242200e-02, -2.08988175e-01,\n",
       "         8.07376087e-01, -2.96860337e-01,  3.90643850e-02,  2.90352285e-01,\n",
       "        -1.63115665e-01, -2.40459561e-01, -5.78667745e-02,  1.72715366e-01,\n",
       "        -6.11131005e-02,  2.45054632e-01,  4.81546760e-01,  2.38762721e-01,\n",
       "        -2.85524696e-01,  3.33832473e-01, -2.14373916e-01, -1.41873255e-01,\n",
       "         2.99646467e-01,  4.97159541e-01,  3.05155009e-01,  9.20267627e-02,\n",
       "         3.83664459e-01, -5.68905354e-01,  9.57093835e-02, -2.99333513e-01,\n",
       "        -1.14620395e-01, -2.34313205e-01,  1.11953691e-01, -2.40029488e-02,\n",
       "         1.47933036e-01, -4.09888774e-01, -1.51407882e-03,  3.78310412e-01,\n",
       "        -2.12500811e-01,  2.22740591e-01,  1.12166703e-01, -3.71717155e-01,\n",
       "        -5.94226643e-02, -2.28828281e-01, -4.65008706e-01, -6.25100825e-03,\n",
       "        -2.04849374e-02, -4.73851562e-01, -3.02793533e-01, -8.93978626e-02,\n",
       "         6.47877678e-02,  3.99963677e-01,  1.44863287e-02,  6.89101666e-02,\n",
       "        -3.35798040e-02,  2.91750938e-01, -2.44851112e-01, -1.58795163e-01,\n",
       "         6.61192596e-01, -2.62455344e-01, -1.22279175e-01,  1.21937059e-01,\n",
       "        -4.43237461e-02, -3.64427537e-01,  1.49070546e-01,  2.50006527e-01,\n",
       "        -4.48452711e-01,  5.04494131e-01,  3.21540702e-03, -3.33133012e-01,\n",
       "        -1.30188763e-01, -2.69314200e-01,  1.19969130e-01,  1.54209778e-01,\n",
       "        -3.36713433e-01, -5.81227355e-02,  3.42610538e-01,  2.40233570e-01,\n",
       "        -3.32789481e-01, -1.31440997e-01,  3.89756531e-01,  5.86362965e-02,\n",
       "        -4.56908792e-01,  3.89903158e-01, -3.21110368e-01,  5.14501780e-02,\n",
       "        -1.39993474e-01,  5.67898562e-04, -9.16204229e-02,  4.02816013e-02,\n",
       "         1.76755950e-01,  2.98366636e-01, -2.99275499e-02,  2.03132257e-01,\n",
       "         1.33509189e-01,  2.30212301e-01,  5.94746292e-01, -4.36066449e-01,\n",
       "         1.75703108e-01, -1.44777596e-01,  5.97017825e-01,  2.51903623e-01],\n",
       "       dtype=float32),\n",
       " array([ 0.11031523, -0.1061502 , -0.04927025,  0.18104   ,  0.46607414,\n",
       "        -0.06229549,  0.07509567,  0.39945647, -0.2938993 ,  0.02346532,\n",
       "         0.2405628 , -0.74992406,  0.35865793, -0.29724705,  0.15342653,\n",
       "         0.19411576, -0.06377833, -0.17519535,  0.11272889, -0.14261837,\n",
       "         0.64217633,  0.4039977 , -0.1671455 ,  0.33813813, -0.07879804,\n",
       "        -0.17509302, -0.01491697, -0.3943581 , -0.1469313 ,  0.17140548,\n",
       "         0.13077739, -0.15985249, -0.04615096, -0.22493902,  0.24200448,\n",
       "         0.37485635,  0.04699534,  0.0164253 ,  0.08382729, -0.462469  ,\n",
       "         0.33748853,  0.19776034, -0.26369122, -0.1725415 , -0.36674914,\n",
       "        -0.0662774 , -0.34193158, -0.26290333, -0.37537253,  0.37089807,\n",
       "         0.77170044, -0.32170272,  0.29645082, -0.04492618, -0.35443532,\n",
       "        -0.02955018,  0.18991344, -0.89689547, -0.37079084,  0.20122992,\n",
       "        -0.07728054,  0.23132998, -0.01796562,  0.00600291, -0.1805589 ,\n",
       "         0.07269082, -0.24846205,  0.34369704,  0.09298673,  0.51331085,\n",
       "        -0.12802736, -0.05285186,  0.0430148 , -0.15230994,  0.18658513,\n",
       "         0.5530313 ,  0.43844932,  0.03723639, -0.06406958, -0.08157546,\n",
       "         0.62760824, -0.03148239, -0.11339956, -0.23183104, -0.25076684,\n",
       "        -0.2915829 , -0.094361  ,  0.17297721,  0.29090482,  0.624279  ,\n",
       "         0.23205836, -0.03090301, -0.46714023,  0.5004864 ,  0.56320596,\n",
       "         0.06829979, -0.37223706, -0.306131  ,  0.07574584, -0.2678364 ],\n",
       "       dtype=float32),\n",
       " array([ 0.05138751, -0.31841013, -0.17403479,  0.21717091,  0.31520393,\n",
       "        -0.3168855 , -0.16397013,  0.37264192, -0.10188279, -0.14936236,\n",
       "        -0.02884933, -0.4405016 ,  0.43543246,  0.2788365 ,  0.37593675,\n",
       "        -0.01156253,  0.07633927,  0.11514749,  0.00924091, -0.5574553 ,\n",
       "         0.06058258,  0.38401672,  0.29251006, -0.01300969,  0.11288652,\n",
       "         0.06663044, -0.19539963, -0.5392357 , -0.32133248,  0.36892167,\n",
       "         0.20454256, -0.18266234,  0.02791131, -0.15973975, -0.0243935 ,\n",
       "         0.425693  ,  0.00923605,  0.38905156,  0.15326639, -0.4411773 ,\n",
       "         0.07149193, -0.23218481,  0.12334477, -0.13034965, -0.22549236,\n",
       "        -0.3492556 , -0.29937974, -0.07277101,  0.14770421,  0.24367605,\n",
       "         0.32525265, -0.27346957, -0.0979628 ,  0.490791  , -0.12432638,\n",
       "         0.1695539 ,  0.39212993, -0.09049571, -0.46288395, -0.19240656,\n",
       "        -0.10805225,  0.21674983,  0.33694288,  0.17074089, -0.38498488,\n",
       "         0.52607286,  0.1788596 ,  0.11607279, -0.04169844,  0.170371  ,\n",
       "        -0.03193045,  0.13230114,  0.07113394, -0.012204  ,  0.4239411 ,\n",
       "         0.44636846, -0.29162434,  0.04019498,  0.00461249,  0.3728348 ,\n",
       "        -0.29019934, -0.03187557, -0.01411094, -0.00994729, -0.6418796 ,\n",
       "        -0.14801028,  0.23483184,  0.46783656,  0.36214662,  0.30187455,\n",
       "         0.52246547, -0.00556985,  0.17476802,  0.20660165,  0.24366187,\n",
       "        -0.17196162,  0.16126099,  0.12234577, -0.1623603 , -0.4843558 ],\n",
       "       dtype=float32),\n",
       " array([-0.08191235,  0.00817002, -0.0297701 , -0.30634034,  0.5457233 ,\n",
       "         0.22915438,  0.08410233, -0.01447313, -0.569031  ,  0.11026848,\n",
       "        -0.14601502, -0.00245362, -0.01518992, -0.01572868, -0.2627152 ,\n",
       "        -0.39711896,  0.33501518, -0.03597688,  0.16060281, -0.53042233,\n",
       "         0.14947277,  0.2522288 ,  0.18652791,  0.36762035, -0.00828426,\n",
       "        -0.9371618 ,  0.2670412 , -0.40451142, -0.34025458,  0.01233039,\n",
       "         0.19200373, -0.48147005,  0.00659764, -0.2850933 ,  0.08230755,\n",
       "         0.17431916, -0.21158263,  0.00451031, -0.03498249, -0.5012544 ,\n",
       "         0.08519403,  0.26492864, -0.3026871 , -0.09744339, -0.08903924,\n",
       "        -0.4638333 , -0.39042667, -0.06238197,  0.22035159,  0.24254678,\n",
       "         0.2848447 ,  0.05910732, -0.33077356,  0.86028314, -0.6830359 ,\n",
       "        -0.33986828,  0.30224338, -0.42612877, -0.02743404, -0.7268467 ,\n",
       "        -0.00474899,  0.18421867,  0.08647463, -0.2297465 , -0.6187525 ,\n",
       "        -0.12907691, -0.1985715 , -0.18707523,  0.15565802,  0.17456636,\n",
       "         0.07614466,  0.23255996,  0.07989072,  0.10442471,  0.26819602,\n",
       "         0.5118865 , -0.38949943,  0.61081725, -0.2524759 , -0.14540541,\n",
       "        -0.16611499, -0.24437481, -0.12708145,  0.19420588, -0.1840408 ,\n",
       "        -0.3380783 ,  0.0980081 ,  0.4012744 ,  0.4175235 ,  0.26116443,\n",
       "         0.08074953, -0.00553437, -0.490277  ,  0.05951478,  0.5016681 ,\n",
       "         0.30238184, -0.44788578, -0.0828977 ,  0.29712254, -0.46728146],\n",
       "       dtype=float32),\n",
       " array([ 0.1378681 , -0.02447807, -0.23598142,  0.15012737,  0.6932413 ,\n",
       "        -0.2668762 ,  0.04394785,  0.24685483,  0.00834603,  0.15178788,\n",
       "        -0.01906844, -0.28179556,  0.17320824,  0.17598687,  0.25104114,\n",
       "        -0.1660419 , -0.06174443,  0.15103303, -0.14677753, -0.10217   ,\n",
       "         0.76126534,  0.31187028,  0.20770027,  0.07661564,  0.45585427,\n",
       "        -0.06584267,  0.06196964, -0.11512872, -0.25943682, -0.2222534 ,\n",
       "         0.07709268, -0.0071789 ,  0.12199459, -0.16569614,  0.23183227,\n",
       "         0.20640793,  0.09655291,  0.14215939,  0.05615265, -0.61650217,\n",
       "         0.00886009,  0.07195617,  0.01650611, -0.07758534,  0.46694818,\n",
       "         0.14066227, -0.690479  , -0.18988566, -0.27267227,  0.06697989,\n",
       "         0.7242775 , -0.5109786 , -0.18103468,  0.24196817, -0.27075592,\n",
       "        -0.3755312 ,  0.4494027 , -0.9071322 , -0.4307892 , -0.3161539 ,\n",
       "         0.23295446,  0.0485674 ,  0.02191923, -0.23827894, -0.81288207,\n",
       "         0.20829585, -0.08507628, -0.1261578 ,  0.12248621,  0.45176643,\n",
       "        -0.35052088,  0.10732029,  0.15705697,  0.38889396,  0.12667862,\n",
       "         0.16114494,  0.2049579 ,  0.17052536,  0.07077275, -0.16878943,\n",
       "         0.20027459,  0.2028272 ,  0.01139529,  0.39921287, -0.2046742 ,\n",
       "        -0.16763654,  0.02971246,  0.5007373 ,  0.2918907 ,  0.39334986,\n",
       "        -0.13134661,  0.27993405, -0.49430683,  0.17413448,  0.41845897,\n",
       "        -0.44830674, -0.46170095, -0.04556901,  0.12440061,  0.2479722 ],\n",
       "       dtype=float32),\n",
       " array([ 0.12379458, -0.10443583, -0.11499534,  0.02333162,  0.32570377,\n",
       "        -0.2675387 ,  0.19415966,  0.3340855 ,  0.17258891, -0.0462033 ,\n",
       "         0.08298051, -0.35240543,  0.16967893,  0.27882835,  0.3621093 ,\n",
       "        -0.09738121,  0.053216  ,  0.16615134, -0.17832628, -0.13036479,\n",
       "        -0.0018915 ,  0.094172  ,  0.16307482, -0.01733353,  0.4952399 ,\n",
       "         0.01279463,  0.02096272, -0.20053521, -0.14691974, -0.06036341,\n",
       "        -0.19820048, -0.33500898,  0.08527411, -0.21549755,  0.24626237,\n",
       "         0.5055541 , -0.02642356,  0.20783415,  0.04757147, -0.39446506,\n",
       "         0.04810252, -0.24661092, -0.13694142, -0.05346264,  0.43604025,\n",
       "        -0.24223484, -0.57250345, -0.14984012,  0.3409492 ,  0.12631746,\n",
       "         0.8434424 , -0.3306941 , -0.02795574,  0.30921745, -0.41171044,\n",
       "        -0.06964489,  0.41795897, -0.63948673, -0.44720688, -0.19874962,\n",
       "         0.04695792,  0.13390034,  0.2027813 ,  0.02208622, -0.8538615 ,\n",
       "         0.36473596, -0.1152435 ,  0.09187356,  0.02856056,  0.42166594,\n",
       "        -0.31458214,  0.07210147,  0.1706111 , -0.20032707,  0.41093582,\n",
       "         0.26330128, -0.05570248, -0.0946254 , -0.09210102, -0.21129164,\n",
       "        -0.06544819, -0.02742189, -0.14552264,  0.20569296, -0.30346745,\n",
       "         0.20432672,  0.44593003,  0.40502745,  0.02689197,  0.4613882 ,\n",
       "         0.00125389, -0.09893492, -0.34493494,  0.08806492,  0.5010102 ,\n",
       "        -0.24085696, -0.16353738,  0.00995499,  0.23813619,  0.2946489 ],\n",
       "       dtype=float32),\n",
       " array([-0.24388817,  0.0784923 , -0.13385318, -0.24403855,  0.31423935,\n",
       "        -0.19171704, -0.1580662 ,  0.49096155, -0.11352567,  0.20851092,\n",
       "         0.19535193,  0.02261857,  0.20896871,  0.2457226 ,  0.12626241,\n",
       "        -0.23554832, -0.31175017,  0.14700827, -0.14984663, -0.27514258,\n",
       "         0.0537238 , -0.02588774,  0.22501336,  0.34828025,  0.22577871,\n",
       "        -0.38586804,  0.1447581 ,  0.09014349, -0.09913028, -0.18593985,\n",
       "        -0.02582876, -0.23520257, -0.17020571, -0.4515127 , -0.18620814,\n",
       "         0.52730614, -0.5819343 ,  0.4886259 ,  0.18876328, -0.38024023,\n",
       "         0.0554231 , -0.0548286 , -0.45434305, -0.18200089, -0.08044033,\n",
       "        -0.4648674 ,  0.09442597, -0.21710552,  0.35226703,  0.289004  ,\n",
       "         0.05947637,  0.11341633, -0.03538458,  0.31011015, -0.28962374,\n",
       "         0.02226939,  0.7244923 , -0.7278498 , -0.23816797, -0.40433437,\n",
       "         0.06691896, -0.12812568,  0.01071934, -0.19967341, -0.42978227,\n",
       "         0.27225438,  0.28299168, -0.06629861, -0.0703463 ,  0.23724462,\n",
       "        -0.05209487,  0.30982137, -0.16442642, -0.04835005,  0.20762047,\n",
       "         0.4719716 , -0.23566611, -0.06022974, -0.24258898,  0.28891125,\n",
       "        -0.2745242 , -0.19140144, -0.16402484, -0.09106634, -0.21867976,\n",
       "         0.24661385, -0.16475998,  0.2282503 , -0.00458338,  0.32457718,\n",
       "        -0.22740549, -0.2469757 , -0.14020672, -0.00423075,  0.5485922 ,\n",
       "        -0.11645862, -0.08009566,  0.01439986,  0.01323773,  0.05278872],\n",
       "       dtype=float32)]"
      ]
     },
     "execution_count": 20,
     "metadata": {},
     "output_type": "execute_result"
    }
   ],
   "source": [
    "char_vectors"
   ]
  },
  {
   "cell_type": "code",
   "execution_count": 21,
   "metadata": {},
   "outputs": [],
   "source": [
    "from sklearn.decomposition import PCA\n",
    "pca = PCA(n_components=3)\n",
    "features = pca.fit_transform(char_vectors) "
   ]
  },
  {
   "cell_type": "code",
   "execution_count": 22,
   "metadata": {},
   "outputs": [
    {
     "data": {
      "application/vnd.plotly.v1+json": {
       "config": {
        "plotlyServerURL": "https://plot.ly"
       },
       "data": [
        {
         "hovertemplate": "color=harry<br>0=%{x}<br>1=%{y}<br>2=%{z}<extra></extra>",
         "legendgroup": "harry",
         "marker": {
          "color": "#636efa",
          "symbol": "circle"
         },
         "mode": "markers",
         "name": "harry",
         "scene": "scene",
         "showlegend": true,
         "type": "scatter3d",
         "x": [
          0.6266571122450326
         ],
         "y": [
          -0.2668114854116411
         ],
         "z": [
          0.08730996423990293
         ]
        },
        {
         "hovertemplate": "color=ron<br>0=%{x}<br>1=%{y}<br>2=%{z}<extra></extra>",
         "legendgroup": "ron",
         "marker": {
          "color": "#EF553B",
          "symbol": "circle"
         },
         "mode": "markers",
         "name": "ron",
         "scene": "scene",
         "showlegend": true,
         "type": "scatter3d",
         "x": [
          1.4550196580700465
         ],
         "y": [
          -0.2528652335642966
         ],
         "z": [
          -0.17249951033774788
         ]
        },
        {
         "hovertemplate": "color=hermione<br>0=%{x}<br>1=%{y}<br>2=%{z}<extra></extra>",
         "legendgroup": "hermione",
         "marker": {
          "color": "#00cc96",
          "symbol": "circle"
         },
         "mode": "markers",
         "name": "hermione",
         "scene": "scene",
         "showlegend": true,
         "type": "scatter3d",
         "x": [
          1.4144785596425515
         ],
         "y": [
          -0.48175152811938415
         ],
         "z": [
          -0.200583085810086
         ]
        },
        {
         "hovertemplate": "color=dumbledore<br>0=%{x}<br>1=%{y}<br>2=%{z}<extra></extra>",
         "legendgroup": "dumbledore",
         "marker": {
          "color": "#ab63fa",
          "symbol": "circle"
         },
         "mode": "markers",
         "name": "dumbledore",
         "scene": "scene",
         "showlegend": true,
         "type": "scatter3d",
         "x": [
          -0.6384176816450785
         ],
         "y": [
          0.914869773154469
         ],
         "z": [
          0.1149670208119711
         ]
        },
        {
         "hovertemplate": "color=voldemort<br>0=%{x}<br>1=%{y}<br>2=%{z}<extra></extra>",
         "legendgroup": "voldemort",
         "marker": {
          "color": "#FFA15A",
          "symbol": "circle"
         },
         "mode": "markers",
         "name": "voldemort",
         "scene": "scene",
         "showlegend": true,
         "type": "scatter3d",
         "x": [
          -1.3486076399549864
         ],
         "y": [
          -0.392167721001416
         ],
         "z": [
          0.4676920652022066
         ]
        },
        {
         "hovertemplate": "color=snape<br>0=%{x}<br>1=%{y}<br>2=%{z}<extra></extra>",
         "legendgroup": "snape",
         "marker": {
          "color": "#19d3f3",
          "symbol": "circle"
         },
         "mode": "markers",
         "name": "snape",
         "scene": "scene",
         "showlegend": true,
         "type": "scatter3d",
         "x": [
          -0.9876773492858
         ],
         "y": [
          0.2922149165162368
         ],
         "z": [
          -0.6778591177043038
         ]
        },
        {
         "hovertemplate": "color=sirius<br>0=%{x}<br>1=%{y}<br>2=%{z}<extra></extra>",
         "legendgroup": "sirius",
         "marker": {
          "color": "#FF6692",
          "symbol": "circle"
         },
         "mode": "markers",
         "name": "sirius",
         "scene": "scene",
         "showlegend": true,
         "type": "scatter3d",
         "x": [
          -0.30692735864874277
         ],
         "y": [
          0.017926315095786426
         ],
         "z": [
          0.02086652243845311
         ]
        },
        {
         "hovertemplate": "color=draco<br>0=%{x}<br>1=%{y}<br>2=%{z}<extra></extra>",
         "legendgroup": "draco",
         "marker": {
          "color": "#B6E880",
          "symbol": "circle"
         },
         "mode": "markers",
         "name": "draco",
         "scene": "scene",
         "showlegend": true,
         "type": "scatter3d",
         "x": [
          -0.7957401019106597
         ],
         "y": [
          -0.9662227566979605
         ],
         "z": [
          -0.8773113335235518
         ]
        },
        {
         "hovertemplate": "color=hagrid<br>0=%{x}<br>1=%{y}<br>2=%{z}<extra></extra>",
         "legendgroup": "hagrid",
         "marker": {
          "color": "#FF97FF",
          "symbol": "circle"
         },
         "mode": "markers",
         "name": "hagrid",
         "scene": "scene",
         "showlegend": true,
         "type": "scatter3d",
         "x": [
          1.0245782471882838
         ],
         "y": [
          1.3211933566636564
         ],
         "z": [
          0.4666714458532743
         ]
        },
        {
         "hovertemplate": "color=neville<br>0=%{x}<br>1=%{y}<br>2=%{z}<extra></extra>",
         "legendgroup": "neville",
         "marker": {
          "color": "#FECB52",
          "symbol": "circle"
         },
         "mode": "markers",
         "name": "neville",
         "scene": "scene",
         "showlegend": true,
         "type": "scatter3d",
         "x": [
          0.9786049777422633
         ],
         "y": [
          -0.764166216314015
         ],
         "z": [
          -0.5384236122431308
         ]
        },
        {
         "hovertemplate": "color=dobby<br>0=%{x}<br>1=%{y}<br>2=%{z}<extra></extra>",
         "legendgroup": "dobby",
         "marker": {
          "color": "#636efa",
          "symbol": "circle"
         },
         "mode": "markers",
         "name": "dobby",
         "scene": "scene",
         "showlegend": true,
         "type": "scatter3d",
         "x": [
          -0.1469264976216655
         ],
         "y": [
          -0.5676658318014564
         ],
         "z": [
          2.031120347056735
         ]
        },
        {
         "hovertemplate": "color=moody<br>0=%{x}<br>1=%{y}<br>2=%{z}<extra></extra>",
         "legendgroup": "moody",
         "marker": {
          "color": "#EF553B",
          "symbol": "circle"
         },
         "mode": "markers",
         "name": "moody",
         "scene": "scene",
         "showlegend": true,
         "type": "scatter3d",
         "x": [
          -0.2941668467043345
         ],
         "y": [
          1.411230574085227
         ],
         "z": [
          -0.1648803676002006
         ]
        },
        {
         "hovertemplate": "color=lupin<br>0=%{x}<br>1=%{y}<br>2=%{z}<extra></extra>",
         "legendgroup": "lupin",
         "marker": {
          "color": "#00cc96",
          "symbol": "circle"
         },
         "mode": "markers",
         "name": "lupin",
         "scene": "scene",
         "showlegend": true,
         "type": "scatter3d",
         "x": [
          -0.21940167969670932
         ],
         "y": [
          0.5912288033072665
         ],
         "z": [
          -0.5582188539138178
         ]
        },
        {
         "hovertemplate": "color=bellatrix<br>0=%{x}<br>1=%{y}<br>2=%{z}<extra></extra>",
         "legendgroup": "bellatrix",
         "marker": {
          "color": "#ab63fa",
          "symbol": "circle"
         },
         "mode": "markers",
         "name": "bellatrix",
         "scene": "scene",
         "showlegend": true,
         "type": "scatter3d",
         "x": [
          -0.7614733994202019
         ],
         "y": [
          -0.8570129659124722
         ],
         "z": [
          0.0011485155302954936
         ]
        }
       ],
       "layout": {
        "legend": {
         "title": {
          "text": "color"
         },
         "tracegroupgap": 0
        },
        "margin": {
         "t": 60
        },
        "scene": {
         "domain": {
          "x": [
           0,
           1
          ],
          "y": [
           0,
           1
          ]
         },
         "xaxis": {
          "title": {
           "text": "0"
          }
         },
         "yaxis": {
          "title": {
           "text": "1"
          }
         },
         "zaxis": {
          "title": {
           "text": "2"
          }
         }
        },
        "template": {
         "data": {
          "bar": [
           {
            "error_x": {
             "color": "#2a3f5f"
            },
            "error_y": {
             "color": "#2a3f5f"
            },
            "marker": {
             "line": {
              "color": "#E5ECF6",
              "width": 0.5
             },
             "pattern": {
              "fillmode": "overlay",
              "size": 10,
              "solidity": 0.2
             }
            },
            "type": "bar"
           }
          ],
          "barpolar": [
           {
            "marker": {
             "line": {
              "color": "#E5ECF6",
              "width": 0.5
             },
             "pattern": {
              "fillmode": "overlay",
              "size": 10,
              "solidity": 0.2
             }
            },
            "type": "barpolar"
           }
          ],
          "carpet": [
           {
            "aaxis": {
             "endlinecolor": "#2a3f5f",
             "gridcolor": "white",
             "linecolor": "white",
             "minorgridcolor": "white",
             "startlinecolor": "#2a3f5f"
            },
            "baxis": {
             "endlinecolor": "#2a3f5f",
             "gridcolor": "white",
             "linecolor": "white",
             "minorgridcolor": "white",
             "startlinecolor": "#2a3f5f"
            },
            "type": "carpet"
           }
          ],
          "choropleth": [
           {
            "colorbar": {
             "outlinewidth": 0,
             "ticks": ""
            },
            "type": "choropleth"
           }
          ],
          "contour": [
           {
            "colorbar": {
             "outlinewidth": 0,
             "ticks": ""
            },
            "colorscale": [
             [
              0,
              "#0d0887"
             ],
             [
              0.1111111111111111,
              "#46039f"
             ],
             [
              0.2222222222222222,
              "#7201a8"
             ],
             [
              0.3333333333333333,
              "#9c179e"
             ],
             [
              0.4444444444444444,
              "#bd3786"
             ],
             [
              0.5555555555555556,
              "#d8576b"
             ],
             [
              0.6666666666666666,
              "#ed7953"
             ],
             [
              0.7777777777777778,
              "#fb9f3a"
             ],
             [
              0.8888888888888888,
              "#fdca26"
             ],
             [
              1,
              "#f0f921"
             ]
            ],
            "type": "contour"
           }
          ],
          "contourcarpet": [
           {
            "colorbar": {
             "outlinewidth": 0,
             "ticks": ""
            },
            "type": "contourcarpet"
           }
          ],
          "heatmap": [
           {
            "colorbar": {
             "outlinewidth": 0,
             "ticks": ""
            },
            "colorscale": [
             [
              0,
              "#0d0887"
             ],
             [
              0.1111111111111111,
              "#46039f"
             ],
             [
              0.2222222222222222,
              "#7201a8"
             ],
             [
              0.3333333333333333,
              "#9c179e"
             ],
             [
              0.4444444444444444,
              "#bd3786"
             ],
             [
              0.5555555555555556,
              "#d8576b"
             ],
             [
              0.6666666666666666,
              "#ed7953"
             ],
             [
              0.7777777777777778,
              "#fb9f3a"
             ],
             [
              0.8888888888888888,
              "#fdca26"
             ],
             [
              1,
              "#f0f921"
             ]
            ],
            "type": "heatmap"
           }
          ],
          "heatmapgl": [
           {
            "colorbar": {
             "outlinewidth": 0,
             "ticks": ""
            },
            "colorscale": [
             [
              0,
              "#0d0887"
             ],
             [
              0.1111111111111111,
              "#46039f"
             ],
             [
              0.2222222222222222,
              "#7201a8"
             ],
             [
              0.3333333333333333,
              "#9c179e"
             ],
             [
              0.4444444444444444,
              "#bd3786"
             ],
             [
              0.5555555555555556,
              "#d8576b"
             ],
             [
              0.6666666666666666,
              "#ed7953"
             ],
             [
              0.7777777777777778,
              "#fb9f3a"
             ],
             [
              0.8888888888888888,
              "#fdca26"
             ],
             [
              1,
              "#f0f921"
             ]
            ],
            "type": "heatmapgl"
           }
          ],
          "histogram": [
           {
            "marker": {
             "pattern": {
              "fillmode": "overlay",
              "size": 10,
              "solidity": 0.2
             }
            },
            "type": "histogram"
           }
          ],
          "histogram2d": [
           {
            "colorbar": {
             "outlinewidth": 0,
             "ticks": ""
            },
            "colorscale": [
             [
              0,
              "#0d0887"
             ],
             [
              0.1111111111111111,
              "#46039f"
             ],
             [
              0.2222222222222222,
              "#7201a8"
             ],
             [
              0.3333333333333333,
              "#9c179e"
             ],
             [
              0.4444444444444444,
              "#bd3786"
             ],
             [
              0.5555555555555556,
              "#d8576b"
             ],
             [
              0.6666666666666666,
              "#ed7953"
             ],
             [
              0.7777777777777778,
              "#fb9f3a"
             ],
             [
              0.8888888888888888,
              "#fdca26"
             ],
             [
              1,
              "#f0f921"
             ]
            ],
            "type": "histogram2d"
           }
          ],
          "histogram2dcontour": [
           {
            "colorbar": {
             "outlinewidth": 0,
             "ticks": ""
            },
            "colorscale": [
             [
              0,
              "#0d0887"
             ],
             [
              0.1111111111111111,
              "#46039f"
             ],
             [
              0.2222222222222222,
              "#7201a8"
             ],
             [
              0.3333333333333333,
              "#9c179e"
             ],
             [
              0.4444444444444444,
              "#bd3786"
             ],
             [
              0.5555555555555556,
              "#d8576b"
             ],
             [
              0.6666666666666666,
              "#ed7953"
             ],
             [
              0.7777777777777778,
              "#fb9f3a"
             ],
             [
              0.8888888888888888,
              "#fdca26"
             ],
             [
              1,
              "#f0f921"
             ]
            ],
            "type": "histogram2dcontour"
           }
          ],
          "mesh3d": [
           {
            "colorbar": {
             "outlinewidth": 0,
             "ticks": ""
            },
            "type": "mesh3d"
           }
          ],
          "parcoords": [
           {
            "line": {
             "colorbar": {
              "outlinewidth": 0,
              "ticks": ""
             }
            },
            "type": "parcoords"
           }
          ],
          "pie": [
           {
            "automargin": true,
            "type": "pie"
           }
          ],
          "scatter": [
           {
            "fillpattern": {
             "fillmode": "overlay",
             "size": 10,
             "solidity": 0.2
            },
            "type": "scatter"
           }
          ],
          "scatter3d": [
           {
            "line": {
             "colorbar": {
              "outlinewidth": 0,
              "ticks": ""
             }
            },
            "marker": {
             "colorbar": {
              "outlinewidth": 0,
              "ticks": ""
             }
            },
            "type": "scatter3d"
           }
          ],
          "scattercarpet": [
           {
            "marker": {
             "colorbar": {
              "outlinewidth": 0,
              "ticks": ""
             }
            },
            "type": "scattercarpet"
           }
          ],
          "scattergeo": [
           {
            "marker": {
             "colorbar": {
              "outlinewidth": 0,
              "ticks": ""
             }
            },
            "type": "scattergeo"
           }
          ],
          "scattergl": [
           {
            "marker": {
             "colorbar": {
              "outlinewidth": 0,
              "ticks": ""
             }
            },
            "type": "scattergl"
           }
          ],
          "scattermapbox": [
           {
            "marker": {
             "colorbar": {
              "outlinewidth": 0,
              "ticks": ""
             }
            },
            "type": "scattermapbox"
           }
          ],
          "scatterpolar": [
           {
            "marker": {
             "colorbar": {
              "outlinewidth": 0,
              "ticks": ""
             }
            },
            "type": "scatterpolar"
           }
          ],
          "scatterpolargl": [
           {
            "marker": {
             "colorbar": {
              "outlinewidth": 0,
              "ticks": ""
             }
            },
            "type": "scatterpolargl"
           }
          ],
          "scatterternary": [
           {
            "marker": {
             "colorbar": {
              "outlinewidth": 0,
              "ticks": ""
             }
            },
            "type": "scatterternary"
           }
          ],
          "surface": [
           {
            "colorbar": {
             "outlinewidth": 0,
             "ticks": ""
            },
            "colorscale": [
             [
              0,
              "#0d0887"
             ],
             [
              0.1111111111111111,
              "#46039f"
             ],
             [
              0.2222222222222222,
              "#7201a8"
             ],
             [
              0.3333333333333333,
              "#9c179e"
             ],
             [
              0.4444444444444444,
              "#bd3786"
             ],
             [
              0.5555555555555556,
              "#d8576b"
             ],
             [
              0.6666666666666666,
              "#ed7953"
             ],
             [
              0.7777777777777778,
              "#fb9f3a"
             ],
             [
              0.8888888888888888,
              "#fdca26"
             ],
             [
              1,
              "#f0f921"
             ]
            ],
            "type": "surface"
           }
          ],
          "table": [
           {
            "cells": {
             "fill": {
              "color": "#EBF0F8"
             },
             "line": {
              "color": "white"
             }
            },
            "header": {
             "fill": {
              "color": "#C8D4E3"
             },
             "line": {
              "color": "white"
             }
            },
            "type": "table"
           }
          ]
         },
         "layout": {
          "annotationdefaults": {
           "arrowcolor": "#2a3f5f",
           "arrowhead": 0,
           "arrowwidth": 1
          },
          "autotypenumbers": "strict",
          "coloraxis": {
           "colorbar": {
            "outlinewidth": 0,
            "ticks": ""
           }
          },
          "colorscale": {
           "diverging": [
            [
             0,
             "#8e0152"
            ],
            [
             0.1,
             "#c51b7d"
            ],
            [
             0.2,
             "#de77ae"
            ],
            [
             0.3,
             "#f1b6da"
            ],
            [
             0.4,
             "#fde0ef"
            ],
            [
             0.5,
             "#f7f7f7"
            ],
            [
             0.6,
             "#e6f5d0"
            ],
            [
             0.7,
             "#b8e186"
            ],
            [
             0.8,
             "#7fbc41"
            ],
            [
             0.9,
             "#4d9221"
            ],
            [
             1,
             "#276419"
            ]
           ],
           "sequential": [
            [
             0,
             "#0d0887"
            ],
            [
             0.1111111111111111,
             "#46039f"
            ],
            [
             0.2222222222222222,
             "#7201a8"
            ],
            [
             0.3333333333333333,
             "#9c179e"
            ],
            [
             0.4444444444444444,
             "#bd3786"
            ],
            [
             0.5555555555555556,
             "#d8576b"
            ],
            [
             0.6666666666666666,
             "#ed7953"
            ],
            [
             0.7777777777777778,
             "#fb9f3a"
            ],
            [
             0.8888888888888888,
             "#fdca26"
            ],
            [
             1,
             "#f0f921"
            ]
           ],
           "sequentialminus": [
            [
             0,
             "#0d0887"
            ],
            [
             0.1111111111111111,
             "#46039f"
            ],
            [
             0.2222222222222222,
             "#7201a8"
            ],
            [
             0.3333333333333333,
             "#9c179e"
            ],
            [
             0.4444444444444444,
             "#bd3786"
            ],
            [
             0.5555555555555556,
             "#d8576b"
            ],
            [
             0.6666666666666666,
             "#ed7953"
            ],
            [
             0.7777777777777778,
             "#fb9f3a"
            ],
            [
             0.8888888888888888,
             "#fdca26"
            ],
            [
             1,
             "#f0f921"
            ]
           ]
          },
          "colorway": [
           "#636efa",
           "#EF553B",
           "#00cc96",
           "#ab63fa",
           "#FFA15A",
           "#19d3f3",
           "#FF6692",
           "#B6E880",
           "#FF97FF",
           "#FECB52"
          ],
          "font": {
           "color": "#2a3f5f"
          },
          "geo": {
           "bgcolor": "white",
           "lakecolor": "white",
           "landcolor": "#E5ECF6",
           "showlakes": true,
           "showland": true,
           "subunitcolor": "white"
          },
          "hoverlabel": {
           "align": "left"
          },
          "hovermode": "closest",
          "mapbox": {
           "style": "light"
          },
          "paper_bgcolor": "white",
          "plot_bgcolor": "#E5ECF6",
          "polar": {
           "angularaxis": {
            "gridcolor": "white",
            "linecolor": "white",
            "ticks": ""
           },
           "bgcolor": "#E5ECF6",
           "radialaxis": {
            "gridcolor": "white",
            "linecolor": "white",
            "ticks": ""
           }
          },
          "scene": {
           "xaxis": {
            "backgroundcolor": "#E5ECF6",
            "gridcolor": "white",
            "gridwidth": 2,
            "linecolor": "white",
            "showbackground": true,
            "ticks": "",
            "zerolinecolor": "white"
           },
           "yaxis": {
            "backgroundcolor": "#E5ECF6",
            "gridcolor": "white",
            "gridwidth": 2,
            "linecolor": "white",
            "showbackground": true,
            "ticks": "",
            "zerolinecolor": "white"
           },
           "zaxis": {
            "backgroundcolor": "#E5ECF6",
            "gridcolor": "white",
            "gridwidth": 2,
            "linecolor": "white",
            "showbackground": true,
            "ticks": "",
            "zerolinecolor": "white"
           }
          },
          "shapedefaults": {
           "line": {
            "color": "#2a3f5f"
           }
          },
          "ternary": {
           "aaxis": {
            "gridcolor": "white",
            "linecolor": "white",
            "ticks": ""
           },
           "baxis": {
            "gridcolor": "white",
            "linecolor": "white",
            "ticks": ""
           },
           "bgcolor": "#E5ECF6",
           "caxis": {
            "gridcolor": "white",
            "linecolor": "white",
            "ticks": ""
           }
          },
          "title": {
           "x": 0.05
          },
          "xaxis": {
           "automargin": true,
           "gridcolor": "white",
           "linecolor": "white",
           "ticks": "",
           "title": {
            "standoff": 15
           },
           "zerolinecolor": "white",
           "zerolinewidth": 2
          },
          "yaxis": {
           "automargin": true,
           "gridcolor": "white",
           "linecolor": "white",
           "ticks": "",
           "title": {
            "standoff": 15
           },
           "zerolinecolor": "white",
           "zerolinewidth": 2
          }
         }
        }
       }
      }
     },
     "metadata": {},
     "output_type": "display_data"
    }
   ],
   "source": [
    "import plotly.express as px\n",
    "fig = px.scatter_3d(features, x=0,y=1,z=2, color = characters)\n",
    "fig.show()"
   ]
  },
  {
   "attachments": {},
   "cell_type": "markdown",
   "metadata": {},
   "source": [
    "We observe the following things </br>\n",
    "1. Ron and Hermione Close to each other </br>\n",
    "2. Harry being closest to Ron and Hermione </br>\n",
    "3. Neville to being close with Ron, Hermione and Harry </br>\n",
    "4. Bellatrix, Snape and Draco closest to voldermort </br>\n",
    "5. dobby is an isolated point </br>\n",
    "6. Lupin close to serious as they are part of the good army </br>\n",
    "7. hagrid being away from all of those since he is not a powerful wizard. </br>"
   ]
  },
  {
   "cell_type": "code",
   "execution_count": null,
   "metadata": {},
   "outputs": [],
   "source": []
  }
 ],
 "metadata": {
  "kernelspec": {
   "display_name": "Python 3",
   "language": "python",
   "name": "python3"
  },
  "language_info": {
   "codemirror_mode": {
    "name": "ipython",
    "version": 3
   },
   "file_extension": ".py",
   "mimetype": "text/x-python",
   "name": "python",
   "nbconvert_exporter": "python",
   "pygments_lexer": "ipython3",
   "version": "3.11.3"
  },
  "orig_nbformat": 4
 },
 "nbformat": 4,
 "nbformat_minor": 2
}
